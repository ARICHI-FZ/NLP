{
 "cells": [
  {
   "cell_type": "code",
   "execution_count": 5,
   "id": "4ea5124b-98e3-443d-b30a-84887753cff6",
   "metadata": {},
   "outputs": [],
   "source": [
    "import re"
   ]
  },
  {
   "cell_type": "code",
   "execution_count": 7,
   "id": "c1bfc54d-9fc0-438b-bfbc-aea903b85c1f",
   "metadata": {},
   "outputs": [],
   "source": [
    "def generate_bill(text):\n",
    "    # Adjust the regex to extract products, quantities, and prices\n",
    "    pattern = r\"(\\d+)\\s+([\\w\\s]+)\\s+(\\d+(?:\\.\\d+)?)\\s+dollar\"\n",
    "    matches = re.findall(pattern, text)\n",
    "\n",
    "    # Print header for the bill\n",
    "    print(\"{:<25} {:>10} {:>15} {:>15}\".format(\"Product\", \"Quantity\", \"Unit Price\", \"Total Price\"))\n",
    "    \n",
    "    # Calculate and print each item's total cost\n",
    "    for quantity, product, price in matches:\n",
    "        quantity = int(quantity)\n",
    "        price = float(price)\n",
    "        total_price = quantity * price\n",
    "        print(\"{:<25} {:>10} {:>15} {:>15}\".format(product, quantity, price, total_price))"
   ]
  },
  {
   "cell_type": "code",
   "execution_count": 8,
   "id": "392b4f53-8d2c-4556-b31c-6dd290f9d052",
   "metadata": {},
   "outputs": [
    {
     "name": "stdout",
     "output_type": "stream",
     "text": [
      "Product                     Quantity      Unit Price     Total Price\n",
      "Samsung smartphones                3           150.0           450.0\n",
      "kilos of fresh banana              4             1.2             4.8\n",
      "Hamburger                          1             4.5             4.5\n"
     ]
    }
   ],
   "source": [
    "# Example use case\n",
    "text = \"I bought 3 Samsung smartphones 150 dollar each, 4 kilos of fresh banana 1.2 dollar a kilogram and 1 Hamburger 4.5 dollar.\"\n",
    "generate_bill(text)"
   ]
  }
 ],
 "metadata": {
  "kernelspec": {
   "display_name": "Python 3 (ipykernel)",
   "language": "python",
   "name": "python3"
  },
  "language_info": {
   "codemirror_mode": {
    "name": "ipython",
    "version": 3
   },
   "file_extension": ".py",
   "mimetype": "text/x-python",
   "name": "python",
   "nbconvert_exporter": "python",
   "pygments_lexer": "ipython3",
   "version": "3.10.12"
  }
 },
 "nbformat": 4,
 "nbformat_minor": 5
}
